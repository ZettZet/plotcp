{
 "cells": [
  {
   "cell_type": "code",
   "execution_count": null,
   "outputs": [],
   "source": [
    "from cmath import sin\n",
    "\n",
    "import numpy as np\n",
    "\n",
    "from plotcp import plot_complex_points, plotcp, Faxis, Reim\n"
   ],
   "metadata": {
    "collapsed": false,
    "pycharm": {
     "name": "#%%\n"
    }
   }
  },
  {
   "cell_type": "code",
   "execution_count": null,
   "outputs": [],
   "source": [
    "def f(z):\n",
    "    return sin(z)\n",
    "\n",
    "\n",
    "top = [x + 2 * 1j for x in np.linspace(1, 2, 5)]\n",
    "bottom = [x + 1 * 1j for x in np.linspace(1, 2, 5)]\n",
    "left = [1 + y * 1j for y in np.linspace(1, 2, 5)]\n",
    "right = [2 + y * 1j for y in np.linspace(1, 2, 5)]"
   ],
   "metadata": {
    "collapsed": false,
    "pycharm": {
     "name": "#%%\n"
    }
   }
  },
  {
   "cell_type": "code",
   "execution_count": null,
   "outputs": [],
   "source": [
    "ax = plotcp(f, (-4, 4), (-4, 4), faxis=Faxis.BOTH, reim=Reim.BOTH)\n",
    "ax = plot_complex_points([f(z) for z in top], ax=ax)\n",
    "ax = plot_complex_points([f(z) for z in bottom], ax=ax)\n",
    "ax = plot_complex_points([f(z) for z in left], ax=ax)\n",
    "ax = plot_complex_points([f(z) for z in right], ax=ax)"
   ],
   "metadata": {
    "collapsed": false,
    "pycharm": {
     "name": "#%%\n"
    }
   }
  }
 ],
 "metadata": {
  "kernelspec": {
   "display_name": "Python 3",
   "language": "python",
   "name": "python3"
  },
  "language_info": {
   "codemirror_mode": {
    "name": "ipython",
    "version": 3
   },
   "file_extension": ".py",
   "mimetype": "text/x-python",
   "name": "python",
   "nbconvert_exporter": "python",
   "pygments_lexer": "ipython3",
   "version": "3.8.2"
  }
 },
 "nbformat": 4,
 "nbformat_minor": 2
}